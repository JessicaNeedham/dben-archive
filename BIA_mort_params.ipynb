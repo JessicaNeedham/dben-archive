{
 "cells": [
  {
   "cell_type": "markdown",
   "id": "dba0b46c-95c9-4ece-9eb8-9df72f995937",
   "metadata": {},
   "source": [
    "### Script to generate FATES parameters "
   ]
  },
  {
   "cell_type": "code",
   "execution_count": 1,
   "id": "6b4b7a37-1801-4033-bfbd-4de9eebc4c55",
   "metadata": {},
   "outputs": [],
   "source": [
    "from scipy.stats import qmc\n",
    "import numpy as np\n",
    "\n",
    "import csv\n",
    "import pandas as pd\n",
    "import os\n",
    "import netCDF4 as nc4\n",
    "import sys\n",
    "import shutil\n",
    "from tempfile import TemporaryFile                                                                                                                                 \n",
    "import argparse                                                                                                                                                                                                                                                                                                       \n",
    "import tempfile \n",
    "import random\n",
    "import re\n",
    "\n",
    "import functions_py.modp as mp\n"
   ]
  },
  {
   "cell_type": "code",
   "execution_count": 2,
   "id": "168bc2f6-3403-45ad-9a0f-40617907f584",
   "metadata": {},
   "outputs": [],
   "source": [
    "random.seed(32)"
   ]
  },
  {
   "cell_type": "code",
   "execution_count": 3,
   "id": "4e351416-8bc9-47a2-b13e-1f6731086e95",
   "metadata": {},
   "outputs": [],
   "source": [
    "input_fname = '/global/homes/j/jneedham/DBEN_cbudget_2024/param_files/api35/fates_params_bia_p0.nc'\n",
    "\n",
    "bmort_defs = [ 0.014, 0.015, 0.013, 0.014]\n",
    "\n",
    "scalars = [1.0,  2.5,  4.0,  5.5,  7.0,  8.5, 10.0]\n",
    "\n",
    "var = 'fates_mort_bmort'\n",
    "organ = 'NaN'\n",
    "\n",
    "# for each sample \n",
    "for i in range(0,7) :\n",
    "    \n",
    "    # final parameter file name\n",
    "    fout = '/global/homes/j/jneedham/DBEN_cbudget_2024/param_files/api35/fates_params_bia_mort_{0}.nc'.format(i+1)\n",
    "    \n",
    "    shutil.copyfile(input_fname, fout)                                                                                                                             \n",
    "    \n",
    "    # for each pft\n",
    "    for j in range(0,3) : \n",
    "    \n",
    "        val = bmort_defs[j] * scalars[i]\n",
    "        \n",
    "        mp.main(var = var, pft = j+1, fin = fout, val = val, \n",
    "                    fout = fout, O = 1, organ = organ)\n",
    "        \n",
    "           \n",
    "    "
   ]
  },
  {
   "cell_type": "code",
   "execution_count": null,
   "id": "012a970d-f922-4020-9e22-d18f3318409c",
   "metadata": {},
   "outputs": [],
   "source": []
  }
 ],
 "metadata": {
  "kernelspec": {
   "display_name": "NERSC Python",
   "language": "python",
   "name": "python3"
  },
  "language_info": {
   "codemirror_mode": {
    "name": "ipython",
    "version": 3
   },
   "file_extension": ".py",
   "mimetype": "text/x-python",
   "name": "python",
   "nbconvert_exporter": "python",
   "pygments_lexer": "ipython3",
   "version": "3.11.7"
  }
 },
 "nbformat": 4,
 "nbformat_minor": 5
}
