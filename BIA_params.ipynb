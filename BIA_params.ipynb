{
 "cells": [
  {
   "cell_type": "markdown",
   "id": "dba0b46c-95c9-4ece-9eb8-9df72f995937",
   "metadata": {
    "tags": []
   },
   "source": [
    "### Script to generate FATES parameters using LHS"
   ]
  },
  {
   "cell_type": "code",
   "execution_count": 1,
   "id": "6b4b7a37-1801-4033-bfbd-4de9eebc4c55",
   "metadata": {},
   "outputs": [],
   "source": [
    "from scipy.stats import qmc\n",
    "import numpy as np\n",
    "\n",
    "import csv\n",
    "import pandas as pd\n",
    "import os\n",
    "import netCDF4 as nc4\n",
    "import sys\n",
    "import shutil\n",
    "from tempfile import TemporaryFile                                                                                                                                 \n",
    "import argparse                                                                                                                                                                                                                                                                                                       \n",
    "import tempfile \n",
    "import random\n",
    "import re\n",
    "\n",
    "import functions_py.modp as mp\n"
   ]
  },
  {
   "cell_type": "code",
   "execution_count": 2,
   "id": "168bc2f6-3403-45ad-9a0f-40617907f584",
   "metadata": {},
   "outputs": [],
   "source": [
    "random.seed(32)"
   ]
  },
  {
   "cell_type": "markdown",
   "id": "f41f01ef-feb3-4ce0-87c4-474f2cf11e15",
   "metadata": {},
   "source": [
    "#### Read in min and max values for each parameter and pft "
   ]
  },
  {
   "cell_type": "code",
   "execution_count": 3,
   "id": "c1b2c9aa-8737-4a7c-bd0d-6806290128b0",
   "metadata": {},
   "outputs": [
    {
     "name": "stdout",
     "output_type": "stream",
     "text": [
      "                                     param  value_min  value_max  pft  organ\n",
      "0                         fates_mort_bmort      0.015     0.0200    2    NaN\n",
      "1                       fates_wood_density      0.600     0.7000    2    NaN\n",
      "2                    fates_leaf_vcmax25top     46.000    50.0000    2    NaN\n",
      "3              fates_alloc_storage_cushion      2.400     3.6000    1    NaN\n",
      "4                    fates_leaf_vcmax25top     52.000    55.0000    1    NaN\n",
      "5                         fates_mort_bmort      0.010     0.0140    1    NaN\n",
      "6  fates_maintresp_leaf_atkin2017_baserate      1.000     1.4995    1    NaN\n",
      "7                        fates_leaf_slatop      0.005     0.0100    1    NaN\n"
     ]
    }
   ],
   "source": [
    "param_ranges_full = pd.read_csv('/global/homes/j/jneedham/DBEN_cbudget_2024/param_files/ensembles/bia/BIA_ensemble_params_trimmed.csv')\n",
    "param_ranges = param_ranges_full[['param', 'value_min', 'value_max', 'pft', 'organ']]\n",
    "\n",
    "# number of parameters\n",
    "n_params = len(param_ranges)\n",
    "\n",
    "# number of PFTs - some are global so subtract one\n",
    "n_pfts = len(pd.unique(param_ranges['pft'])) - 1\n",
    "\n",
    "param_names = list(param_ranges.param)\n",
    "pfts = list(param_ranges.pft)\n",
    "organs = list(param_ranges.organ)\n",
    "\n",
    "print(param_ranges)\n"
   ]
  },
  {
   "cell_type": "code",
   "execution_count": 4,
   "id": "5751d5a4-d040-43da-bdde-feb479677f12",
   "metadata": {},
   "outputs": [
    {
     "name": "stdout",
     "output_type": "stream",
     "text": [
      "[1.55015274e-02 6.12453785e-01 4.84151750e+01 3.24822872e+00\n",
      " 5.28341299e+01 1.37886947e-02 1.49097513e+00 6.13071675e-03]\n"
     ]
    }
   ],
   "source": [
    "n_inst = 256\n",
    "\n",
    "sampler = qmc.LatinHypercube(d=n_params)\n",
    "sample = sampler.random(n=n_inst)\n",
    "\n",
    "# scale to parameter ranges\n",
    "l_bounds = param_ranges['value_min']\n",
    "u_bounds = param_ranges['value_max']\n",
    "\n",
    "scaled_sample = qmc.scale(sample, l_bounds, u_bounds)\n",
    "\n",
    "print(scaled_sample[0,:])"
   ]
  },
  {
   "cell_type": "code",
   "execution_count": 5,
   "id": "4e351416-8bc9-47a2-b13e-1f6731086e95",
   "metadata": {},
   "outputs": [],
   "source": [
    "## Read in defaut FATES file - note that this is the default for FATES but with:\n",
    "# - updated allometries for tropical PFTs\n",
    "# - size bins that are consistent with the DBEN protocol. \n",
    "# - supplemental seed rain\n",
    "# - updated vai bins\n",
    "# - atkin respiration \n",
    "# - size dependent mortality \n",
    "\n",
    "input_fname = '/global/homes/j/jneedham/DBEN_cbudget_2024/param_files/fates_params_bia_base_api29.nc'\n",
    "\n",
    "# for each sample \n",
    "for i in range(0,n_inst) :\n",
    "    \n",
    "    # final parameter file name\n",
    "    fout = '/global/homes/j/jneedham/DBEN_cbudget_2024/param_files/ensembles/bia/fates_params_bia_ens_{0}.nc'.format(i+1)\n",
    "    \n",
    "    shutil.copyfile(input_fname, fout)                                                                                                                             \n",
    "   \n",
    "     # loop through each parameter and apply either to the correct pft or globally\n",
    "    for j in range(0, n_params) : \n",
    "        \n",
    "        var = param_names[j]\n",
    "        pft = pfts[j]\n",
    "        organ = organs[j]\n",
    "        \n",
    "        val = scaled_sample[i, j]\n",
    "        \n",
    "        mp.main(var = var, pft = pft, fin = fout, val = val, \n",
    "                    fout = fout, O = 1, organ = organ)\n",
    "        "
   ]
  },
  {
   "cell_type": "code",
   "execution_count": null,
   "id": "647188cd-9ac2-494a-91d6-e7f84a2b4415",
   "metadata": {},
   "outputs": [],
   "source": []
  },
  {
   "cell_type": "code",
   "execution_count": null,
   "id": "0645bc26-bb96-4453-afa3-cfd3b33cb0ec",
   "metadata": {},
   "outputs": [],
   "source": []
  }
 ],
 "metadata": {
  "kernelspec": {
   "display_name": "NERSC Python",
   "language": "python",
   "name": "python3"
  },
  "language_info": {
   "codemirror_mode": {
    "name": "ipython",
    "version": 3
   },
   "file_extension": ".py",
   "mimetype": "text/x-python",
   "name": "python",
   "nbconvert_exporter": "python",
   "pygments_lexer": "ipython3",
   "version": "3.11.7"
  },
  "toc-autonumbering": true
 },
 "nbformat": 4,
 "nbformat_minor": 5
}
